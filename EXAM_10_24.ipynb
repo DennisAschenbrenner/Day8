{
 "cells": [
  {
   "cell_type": "code",
   "execution_count": 1,
   "metadata": {},
   "outputs": [],
   "source": [
    "# Linear Regression is a supervised ML method? False\n",
    "    "
   ]
  },
  {
   "cell_type": "code",
   "execution_count": 2,
   "metadata": {},
   "outputs": [],
   "source": [
    "# Which method do we use to find best fit for data in lin reg: \n",
    "# a: least squares, b: maximum likelyhood, c: logarithmic loss, d: a and b ???\n",
    "# answer : a"
   ]
  },
  {
   "cell_type": "code",
   "execution_count": null,
   "metadata": {},
   "outputs": [],
   "source": [
    "# Which of the fallowing ist true for the residuals: a: lower is better, b: higher is better, c: a and b depending on the situation,\n",
    "# d: none of these\n",
    "# answer: a\n"
   ]
  },
  {
   "cell_type": "code",
   "execution_count": 3,
   "metadata": {},
   "outputs": [],
   "source": [
    "# what will happen when you fit degree 2 polynomial in linreg? \n",
    "# the line will be a parabola\n"
   ]
  },
  {
   "cell_type": "code",
   "execution_count": 5,
   "metadata": {},
   "outputs": [],
   "source": [
    "# neuronal network: is it possible to design a linreg algorithm using neuronal network? True"
   ]
  },
  {
   "cell_type": "code",
   "execution_count": 7,
   "metadata": {},
   "outputs": [],
   "source": [
    "# Which of the following evaluation matrix can be used to evaluate a model while modelling of \n",
    "# continious output variables? a: AOC, b: accuracy, c: loss, d: means-squared error\n",
    "# answer: b and d"
   ]
  },
  {
   "cell_type": "code",
   "execution_count": 8,
   "metadata": {},
   "outputs": [],
   "source": [
    "# which of the following statements is true about outlyers in lin reg?: a: lin reg is sensitive, b: not sensitive,\n",
    "# d: none of them\n",
    "# answer: b"
   ]
  },
  {
   "cell_type": "code",
   "execution_count": 9,
   "metadata": {},
   "outputs": [],
   "source": [
    "# suppose you plotted a scatter diagram between the residuals and predicted values in linreg and you found that \n",
    "# there is a relationship between them: what is that mean? a: since there is a relationship model is not good, \n",
    "# b: is good d: none of those, c: can't say\n",
    "# answer: c"
   ]
  },
  {
   "cell_type": "code",
   "execution_count": 10,
   "metadata": {},
   "outputs": [],
   "source": [
    "# suppose we have N independent values and dependent variable is y, imaging we apply the linreg by fittig the best fit line\n",
    "# by using least squares we found that corr coefficient for one of its variable say x1 with Y = 0.95\n",
    "# which of the following is true? a: relation between x and y is big, b: relation is strong, c: relation is neutral\n",
    "# d: correlation cannot judge the relationship\n",
    "# answer: d"
   ]
  },
  {
   "cell_type": "code",
   "execution_count": null,
   "metadata": {},
   "outputs": [],
   "source": [
    "# suppose you have a dataset D1 and you design a linreg model of degree 3 polynomial and we found that the \n",
    "# training and testing error is zero, or in other terms its perfectly fits the data. What will happen when we \n",
    "# fit a degree 4 polynomial? a: high chances that degree 4 polynomial will overfit the data , b: underfit the \n",
    "# data, c: can't say, d: none of these\n",
    "# answer: a"
   ]
  }
 ],
 "metadata": {
  "kernelspec": {
   "display_name": "Python [conda env:nf] *",
   "language": "python",
   "name": "conda-env-nf-py"
  },
  "language_info": {
   "codemirror_mode": {
    "name": "ipython",
    "version": 3
   },
   "file_extension": ".py",
   "mimetype": "text/x-python",
   "name": "python",
   "nbconvert_exporter": "python",
   "pygments_lexer": "ipython3",
   "version": "3.6.6"
  }
 },
 "nbformat": 4,
 "nbformat_minor": 2
}
